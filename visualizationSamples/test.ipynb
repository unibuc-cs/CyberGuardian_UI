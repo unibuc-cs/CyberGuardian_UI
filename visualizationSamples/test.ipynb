{
 "cells": [
  {
   "cell_type": "code",
   "outputs": [],
   "source": [],
   "metadata": {
    "collapsed": false
   },
   "id": "b5b34ad5241d7d2c"
  },
  {
   "cell_type": "code",
   "outputs": [
    {
     "data": {
      "text/plain": "<Figure size 640x480 with 2 Axes>",
      "image/png": "[encoded data removed]"
     },
     "metadata": {},
     "output_type": "display_data"
    }
   ],
   "source": [
    "\n",
    "from matplotlib import pyplot as plt\n",
    "import pandas as pd\n",
    "df_normal = pd.read_csv(\"../dynabicChatbot/good_RESOURCES_OCCUPANCY_HACKED_False.csv\")\n",
    "df_outlier = pd.read_csv(\"../dynabicChatbot/good_RESOURCES_OCCUPANCY_HACKED_True.csv\")\n",
    "\n",
    "# plotting two histograms on the same axis \n",
    "\n",
    "fig, ax = plt.subplots(1,2)\n",
    "\n",
    "ax[0].hist([df_normal['dataretrieval_occupancy'], df_normal['dataupdater_occupancy']],\n",
    "         bins=[0.2, 0.4, 0.6, 0.8, 1.0], alpha=0.85, color=['red', 'blue'], label=['Retrievers occupancy', 'Updaters occupancy'])\n",
    "ax[0].legend()\n",
    "ax[0].set_title(\"Normal occupancy distribution\") \n",
    "\n",
    "ax[1].hist([df_outlier['dataretrieval_occupancy'], df_outlier['dataupdater_occupancy']],\n",
    "         bins=[0.2, 0.4, 0.6, 0.8, 1.0], alpha=0.85, color=['green', 'yellow'], label=['Retrievers occupancy', 'Updaters occupancy'])\n",
    "ax[1].legend()\n",
    "ax[1].set_title(\"Outlier occupancy\")\n",
    "\n",
    "plt.show(fig)\n"
   ],
   "metadata": {
    "collapsed": false,
    "ExecuteTime": {
     "end_time": "2024-01-11T09:19:19.739523500Z",
     "start_time": "2024-01-11T09:19:19.600971Z"
    }
   },
   "id": "2d82c3ca6ad7b806",
   "execution_count": 95
  },
  {
   "cell_type": "code",
   "outputs": [
    {
     "name": "stdout",
     "output_type": "stream",
     "text": [
      "The median normal dataset: 42.0, and median considered for dataset filter: 54.6\n",
      "The items above mask mean that were not high consumers in the past too are (array([  3,   7,   8,  18,  21,  23,  27,  29,  30,  38,  43,  44,  46,\n",
      "        51,  57,  67,  70,  71,  76,  77,  82,  84,  85,  90,  93,  94,\n",
      "        97,  99, 103, 108, 110, 112, 119, 121, 126, 129, 130, 131, 132,\n",
      "       133, 135, 137, 138, 143, 147], dtype=int64),)\n",
      "The final output is:                   ip         id        lat        lon  count\n",
      "57     195.51.232.97    6_brush  44.452296  25.912814    429\n",
      "27    141.160.16.151  21_flower  44.416535  26.074032    425\n",
      "3       108.0.111.97  12_kettle  44.373662  26.115235    423\n",
      "43    167.202.212.21    2_brush  44.404685  26.080729    420\n",
      "21     138.205.78.16   16_brush  44.426751  25.998371    411\n",
      "38    160.160.77.196   3_kettle  44.586022  26.180886    411\n",
      "143   80.193.135.252   1_flower  44.492869  26.256445    409\n",
      "82    231.201.155.38   9_kettle  44.337298  25.962912    409\n",
      "44   169.211.215.199   21_brush  44.416535  26.074032    400\n",
      "7     114.216.86.125  12_flower  44.373662  26.115235    400\n",
      "77    225.128.80.129   20_brush  44.501947  26.121279    394\n",
      "85    237.217.104.49   6_kettle  44.452296  25.912814    394\n",
      "131   68.138.170.158   1_kettle  44.492869  26.256445    393\n",
      "51     183.88.88.141  18_flower  44.448987  25.908175    391\n",
      "110    4.252.109.130   6_flower  44.452296  25.912814    386\n",
      "129    67.207.47.222   2_flower  44.404685  26.080729    384\n",
      "23      14.162.98.43  16_flower  44.426751  25.998371    378\n",
      "135    71.116.188.88   29_brush  44.461227  26.201697    377\n",
      "97       255.0.45.77  19_flower  44.295282  26.123829    375\n",
      "126    61.26.133.221  18_kettle  44.448987  25.908175    372\n",
      "18    133.213.22.149   18_brush  44.448987  25.908175    369\n",
      "76     223.70.82.144  27_flower  44.531200  26.197270    366\n",
      "46     175.66.225.47    1_brush  44.492869  26.256445    365\n",
      "108   39.160.195.215  15_flower  44.367930  26.289370    365\n",
      "8    116.123.109.186   15_brush  44.367930  26.289370    364\n",
      "84     236.91.34.124   13_brush  44.313001  26.141712    356\n",
      "103     28.17.247.53   3_flower  44.586022  26.180886    355\n",
      "112     40.98.24.184  20_kettle  44.501947  26.121279    353\n",
      "94     248.16.35.131  13_kettle  44.313001  26.141712    352\n",
      "132      68.77.97.11   27_brush  44.531200  26.197270    350\n",
      "138   76.204.155.194   19_brush  44.295282  26.123829    348\n",
      "30   149.167.109.121   2_kettle  44.404685  26.080729    344\n",
      "90   240.113.216.121  29_flower  44.461227  26.201697    342\n",
      "67     214.5.231.112  13_flower  44.313001  26.141712    341\n",
      "130    67.228.44.175  19_kettle  44.295282  26.123829    340\n",
      "137     75.245.11.82  15_kettle  44.367930  26.289370    338\n",
      "121   58.155.237.212   9_flower  44.337298  25.962912    330\n",
      "71    220.150.146.94   12_brush  44.373662  26.115235    330\n",
      "29   149.140.169.186  16_kettle  44.426751  25.998371    329\n",
      "147    94.153.83.210  20_flower  44.501947  26.121279    327\n",
      "70   219.204.196.119  27_kettle  44.531200  26.197270    325\n",
      "99    255.94.159.240    3_brush  44.586022  26.180886    324\n",
      "133   69.184.156.217  21_kettle  44.416535  26.074032    297\n",
      "119     56.96.42.182    9_brush  44.337298  25.962912    289\n",
      "93    248.108.44.162  29_kettle  44.461227  26.201697    271\n"
     ]
    }
   ],
   "source": [
    "import pandas as pd\n",
    "import numpy as np\n",
    "from typing import Dict, Union\n",
    "interested_columns = ['ip','id', 'lat', 'lon']\n",
    "\n",
    "def show_outlier_ips_usage(normaldataset: Union[str, pd.DataFrame], outlierdataset: Union[str, pd.DataFrame])->None:\n",
    "    # Create counts per usage and median values\n",
    "    df_normal = pd.read_csv(\"../dynabicChatbot/DATASET_LOGS_HACKED_False.csv\") if isinstance(normaldataset, str) else normaldataset\n",
    "    df_normal = df_normal.groupby(interested_columns, as_index=False).agg(count=(\"ip\", \"count\"))\n",
    "    median_normal = df_normal.loc[:, 'count'].median()\n",
    "    median_normal_plus = median_normal*1.3\n",
    "    \n",
    "    df_outliers = pd.read_csv(\"../dynabicChatbot/DATASET_LOGS_HACKED_True.csv\") if isinstance(outlierdataset, str) else outlierdataset\n",
    "    df_outliers = df_outliers[interested_columns]\n",
    "    df_outliers = df_outliers.groupby(interested_columns, as_index=False).agg(count=(\"ip\", \"count\"))\n",
    "    \n",
    "    print(f\"The median normal dataset: {median_normal}, and median considered for dataset filter: {median_normal_plus}\")\n",
    "    \n",
    "    \n",
    "    # Select from dataset only what we are interested in \n",
    "    ips_which_were_highconsumers_in_past_too = df_normal.loc[np.where(df_normal[\"count\"] > median_normal_plus)][\"ip\"].to_dict().values()\n",
    "    #print(ips_which_were_highconsumers_in_past_too)\n",
    "    \n",
    "    mask_above_mean_plus = np.where((df_outliers[\"count\"] > median_normal_plus) & ~(df_outliers[\"ip\"].isin(ips_which_were_highconsumers_in_past_too)))\n",
    "    print(f\"The items above mask mean that were not high consumers in the past too are {mask_above_mean_plus}\")\n",
    "          \n",
    "    # Filter by the mask and sort the values by usage\n",
    "    df_outliers = df_outliers.loc[mask_above_mean_plus]\n",
    "    df_outliers.sort_values(by=[\"count\"], inplace=True, ascending=False)\n",
    "    \n",
    "    print(f\"The final output is: {df_outliers}\")\n",
    "    \n",
    "\n",
    "show_outlier_ips_usage(\"../dynabicChatbot/DATASET_LOGS_HACKED_False.csv\", \"../dynabicChatbot/DATASET_LOGS_HACKED_True.csv\")\n"
   ],
   "metadata": {
    "collapsed": false,
    "ExecuteTime": {
     "end_time": "2024-01-11T05:56:17.411380200Z",
     "start_time": "2024-01-11T05:56:17.344484700Z"
    }
   },
   "id": "775047b4d6415802",
   "execution_count": 59
  },
  {
   "cell_type": "code",
   "outputs": [
    {
     "data": {
      "text/plain": "   Animal  count\n0  Falcon      2\n1  Parrot      2",
      "text/html": "<div>\n<style scoped>\n    .dataframe tbody tr th:only-of-type {\n        vertical-align: middle;\n    }\n\n    .dataframe tbody tr th {\n        vertical-align: top;\n    }\n\n    .dataframe thead th {\n        text-align: right;\n    }\n</style>\n<table border=\"1\" class=\"dataframe\">\n  <thead>\n    <tr style=\"text-align: right;\">\n      <th></th>\n      <th>Animal</th>\n      <th>count</th>\n    </tr>\n  </thead>\n  <tbody>\n    <tr>\n      <th>0</th>\n      <td>Falcon</td>\n      <td>2</td>\n    </tr>\n    <tr>\n      <th>1</th>\n      <td>Parrot</td>\n      <td>2</td>\n    </tr>\n  </tbody>\n</table>\n</div>"
     },
     "execution_count": 12,
     "metadata": {},
     "output_type": "execute_result"
    }
   ],
   "source": [
    "df = pd.DataFrame({'Animal': ['Falcon', 'Falcon',\n",
    "                               'Parrot', 'Parrot'],\n",
    "                    'Max Speed': [380., 390., 24., 24.]})\n",
    "#df.groupby(['Animal']).count().reset_index()\n",
    "\n",
    "\n",
    "df.groupby([\"Animal\"], as_index=False).agg(count=(\"Animal\", \"count\"))"
   ],
   "metadata": {
    "collapsed": false,
    "ExecuteTime": {
     "end_time": "2024-01-10T11:11:45.533690700Z",
     "start_time": "2024-01-10T11:11:45.526325600Z"
    }
   },
   "id": "f1e00a5439ec4f05",
   "execution_count": 12
  },
  {
   "cell_type": "code",
   "execution_count": 9,
   "outputs": [],
   "source": [
    "from userUtils import SecurityOfficer\n",
    "import userUtils\n",
    "import pandas as pd\n",
    "from databaseUtils import *\n",
    "from typing import Union\n"
   ],
   "metadata": {
    "collapsed": false,
    "ExecuteTime": {
     "end_time": "2024-01-04T09:36:14.646316300Z",
     "start_time": "2024-01-04T09:36:14.643292100Z"
    }
   },
   "id": "b2ca8163c0f67992"
  },
  {
   "cell_type": "code",
   "outputs": [
    {
     "data": {
      "text/plain": "True"
     },
     "execution_count": 10,
     "metadata": {},
     "output_type": "execute_result"
    }
   ],
   "source": [
    "# Create sample\n",
    "cdb = CredentialsDB()\n",
    "cdb.create_credentials_dataset()"
   ],
   "metadata": {
    "collapsed": false,
    "ExecuteTime": {
     "end_time": "2024-01-04T09:36:14.835282Z",
     "start_time": "2024-01-04T09:36:14.831756700Z"
    }
   },
   "id": "ff0d1b12c224d7f5",
   "execution_count": 10
  },
  {
   "cell_type": "markdown",
   "source": [],
   "metadata": {
    "collapsed": false
   },
   "id": "d080af50625f2ba"
  },
  {
   "cell_type": "code",
   "outputs": [],
   "source": [
    "# Clear save sample\n",
    "cdb.clear_credentials_dataset()\n",
    "cdb.save_credentials_dataset('data/credentials.csv')"
   ],
   "metadata": {
    "collapsed": false,
    "ExecuteTime": {
     "end_time": "2024-01-04T09:36:15.263496100Z",
     "start_time": "2024-01-04T09:36:15.258473900Z"
    }
   },
   "id": "51fae84595cd4659",
   "execution_count": 11
  },
  {
   "cell_type": "code",
   "outputs": [
    {
     "ename": "FileNotFoundError",
     "evalue": "[Errno 2] No such file or directory: 'data/cached_credentials.csv'",
     "output_type": "error",
     "traceback": [
      "\u001B[1;31m---------------------------------------------------------------------------\u001B[0m",
      "\u001B[1;31mFileNotFoundError\u001B[0m                         Traceback (most recent call last)",
      "Cell \u001B[1;32mIn[12], line 2\u001B[0m\n\u001B[0;32m      1\u001B[0m \u001B[38;5;66;03m# Load sample\u001B[39;00m\n\u001B[1;32m----> 2\u001B[0m cdb\u001B[38;5;241m.\u001B[39mload_credentials_dataset()\n\u001B[0;32m      4\u001B[0m \u001B[38;5;28;01mimport\u001B[39;00m \u001B[38;5;21;01mpdb\u001B[39;00m\n\u001B[0;32m      5\u001B[0m \u001B[38;5;66;03m#pdb.set_trace()\u001B[39;00m\n",
      "File \u001B[1;32m\\\\wsl.localhost\\Ubuntu-22.04\\home\\ciprian\\DynabicChatbot_UI\\databaseUtils.py:50\u001B[0m, in \u001B[0;36mCredentialsDB.load_credentials_dataset\u001B[1;34m(self, path)\u001B[0m\n\u001B[0;32m     48\u001B[0m \u001B[38;5;28;01mdef\u001B[39;00m \u001B[38;5;21mload_credentials_dataset\u001B[39m(\u001B[38;5;28mself\u001B[39m, path: \u001B[38;5;28mstr\u001B[39m \u001B[38;5;241m=\u001B[39m \u001B[38;5;28;01mNone\u001B[39;00m) \u001B[38;5;241m-\u001B[39m\u001B[38;5;241m>\u001B[39m \u001B[38;5;28mbool\u001B[39m:\n\u001B[0;32m     49\u001B[0m     \u001B[38;5;28;01massert\u001B[39;00m \u001B[38;5;28mself\u001B[39m\u001B[38;5;241m.\u001B[39mcredentialsDF \u001B[38;5;129;01mis\u001B[39;00m \u001B[38;5;28;01mNone\u001B[39;00m \u001B[38;5;129;01mor\u001B[39;00m \u001B[38;5;28mlen\u001B[39m(\u001B[38;5;28mself\u001B[39m\u001B[38;5;241m.\u001B[39mcredentialsDF) \u001B[38;5;241m==\u001B[39m \u001B[38;5;241m0\u001B[39m , \u001B[38;5;124mf\u001B[39m\u001B[38;5;124m\"\u001B[39m\u001B[38;5;124mDataset is NOT empty!. Clear it first if this is the intended workflow  \u001B[39m\u001B[38;5;132;01m{\u001B[39;00m\u001B[38;5;28mself\u001B[39m\u001B[38;5;241m.\u001B[39mcredentialsDF\u001B[38;5;132;01m}\u001B[39;00m\u001B[38;5;124m\"\u001B[39m\n\u001B[1;32m---> 50\u001B[0m     \u001B[38;5;28mself\u001B[39m\u001B[38;5;241m.\u001B[39mcredentialsDF \u001B[38;5;241m=\u001B[39m pd\u001B[38;5;241m.\u001B[39mread_csv(path \u001B[38;5;28;01mif\u001B[39;00m path \u001B[38;5;129;01mis\u001B[39;00m \u001B[38;5;129;01mnot\u001B[39;00m \u001B[38;5;28;01mNone\u001B[39;00m \u001B[38;5;28;01melse\u001B[39;00m DEFAULT_CREDENTIALS_LOCATION)\n",
      "File \u001B[1;32m~\\anaconda3\\Lib\\site-packages\\pandas\\util\\_decorators.py:211\u001B[0m, in \u001B[0;36mdeprecate_kwarg.<locals>._deprecate_kwarg.<locals>.wrapper\u001B[1;34m(*args, **kwargs)\u001B[0m\n\u001B[0;32m    209\u001B[0m     \u001B[38;5;28;01melse\u001B[39;00m:\n\u001B[0;32m    210\u001B[0m         kwargs[new_arg_name] \u001B[38;5;241m=\u001B[39m new_arg_value\n\u001B[1;32m--> 211\u001B[0m \u001B[38;5;28;01mreturn\u001B[39;00m func(\u001B[38;5;241m*\u001B[39margs, \u001B[38;5;241m*\u001B[39m\u001B[38;5;241m*\u001B[39mkwargs)\n",
      "File \u001B[1;32m~\\anaconda3\\Lib\\site-packages\\pandas\\util\\_decorators.py:331\u001B[0m, in \u001B[0;36mdeprecate_nonkeyword_arguments.<locals>.decorate.<locals>.wrapper\u001B[1;34m(*args, **kwargs)\u001B[0m\n\u001B[0;32m    325\u001B[0m \u001B[38;5;28;01mif\u001B[39;00m \u001B[38;5;28mlen\u001B[39m(args) \u001B[38;5;241m>\u001B[39m num_allow_args:\n\u001B[0;32m    326\u001B[0m     warnings\u001B[38;5;241m.\u001B[39mwarn(\n\u001B[0;32m    327\u001B[0m         msg\u001B[38;5;241m.\u001B[39mformat(arguments\u001B[38;5;241m=\u001B[39m_format_argument_list(allow_args)),\n\u001B[0;32m    328\u001B[0m         \u001B[38;5;167;01mFutureWarning\u001B[39;00m,\n\u001B[0;32m    329\u001B[0m         stacklevel\u001B[38;5;241m=\u001B[39mfind_stack_level(),\n\u001B[0;32m    330\u001B[0m     )\n\u001B[1;32m--> 331\u001B[0m \u001B[38;5;28;01mreturn\u001B[39;00m func(\u001B[38;5;241m*\u001B[39margs, \u001B[38;5;241m*\u001B[39m\u001B[38;5;241m*\u001B[39mkwargs)\n",
      "File \u001B[1;32m~\\anaconda3\\Lib\\site-packages\\pandas\\io\\parsers\\readers.py:950\u001B[0m, in \u001B[0;36mread_csv\u001B[1;34m(filepath_or_buffer, sep, delimiter, header, names, index_col, usecols, squeeze, prefix, mangle_dupe_cols, dtype, engine, converters, true_values, false_values, skipinitialspace, skiprows, skipfooter, nrows, na_values, keep_default_na, na_filter, verbose, skip_blank_lines, parse_dates, infer_datetime_format, keep_date_col, date_parser, dayfirst, cache_dates, iterator, chunksize, compression, thousands, decimal, lineterminator, quotechar, quoting, doublequote, escapechar, comment, encoding, encoding_errors, dialect, error_bad_lines, warn_bad_lines, on_bad_lines, delim_whitespace, low_memory, memory_map, float_precision, storage_options)\u001B[0m\n\u001B[0;32m    935\u001B[0m kwds_defaults \u001B[38;5;241m=\u001B[39m _refine_defaults_read(\n\u001B[0;32m    936\u001B[0m     dialect,\n\u001B[0;32m    937\u001B[0m     delimiter,\n\u001B[1;32m   (...)\u001B[0m\n\u001B[0;32m    946\u001B[0m     defaults\u001B[38;5;241m=\u001B[39m{\u001B[38;5;124m\"\u001B[39m\u001B[38;5;124mdelimiter\u001B[39m\u001B[38;5;124m\"\u001B[39m: \u001B[38;5;124m\"\u001B[39m\u001B[38;5;124m,\u001B[39m\u001B[38;5;124m\"\u001B[39m},\n\u001B[0;32m    947\u001B[0m )\n\u001B[0;32m    948\u001B[0m kwds\u001B[38;5;241m.\u001B[39mupdate(kwds_defaults)\n\u001B[1;32m--> 950\u001B[0m \u001B[38;5;28;01mreturn\u001B[39;00m _read(filepath_or_buffer, kwds)\n",
      "File \u001B[1;32m~\\anaconda3\\Lib\\site-packages\\pandas\\io\\parsers\\readers.py:605\u001B[0m, in \u001B[0;36m_read\u001B[1;34m(filepath_or_buffer, kwds)\u001B[0m\n\u001B[0;32m    602\u001B[0m _validate_names(kwds\u001B[38;5;241m.\u001B[39mget(\u001B[38;5;124m\"\u001B[39m\u001B[38;5;124mnames\u001B[39m\u001B[38;5;124m\"\u001B[39m, \u001B[38;5;28;01mNone\u001B[39;00m))\n\u001B[0;32m    604\u001B[0m \u001B[38;5;66;03m# Create the parser.\u001B[39;00m\n\u001B[1;32m--> 605\u001B[0m parser \u001B[38;5;241m=\u001B[39m TextFileReader(filepath_or_buffer, \u001B[38;5;241m*\u001B[39m\u001B[38;5;241m*\u001B[39mkwds)\n\u001B[0;32m    607\u001B[0m \u001B[38;5;28;01mif\u001B[39;00m chunksize \u001B[38;5;129;01mor\u001B[39;00m iterator:\n\u001B[0;32m    608\u001B[0m     \u001B[38;5;28;01mreturn\u001B[39;00m parser\n",
      "File \u001B[1;32m~\\anaconda3\\Lib\\site-packages\\pandas\\io\\parsers\\readers.py:1442\u001B[0m, in \u001B[0;36mTextFileReader.__init__\u001B[1;34m(self, f, engine, **kwds)\u001B[0m\n\u001B[0;32m   1439\u001B[0m     \u001B[38;5;28mself\u001B[39m\u001B[38;5;241m.\u001B[39moptions[\u001B[38;5;124m\"\u001B[39m\u001B[38;5;124mhas_index_names\u001B[39m\u001B[38;5;124m\"\u001B[39m] \u001B[38;5;241m=\u001B[39m kwds[\u001B[38;5;124m\"\u001B[39m\u001B[38;5;124mhas_index_names\u001B[39m\u001B[38;5;124m\"\u001B[39m]\n\u001B[0;32m   1441\u001B[0m \u001B[38;5;28mself\u001B[39m\u001B[38;5;241m.\u001B[39mhandles: IOHandles \u001B[38;5;241m|\u001B[39m \u001B[38;5;28;01mNone\u001B[39;00m \u001B[38;5;241m=\u001B[39m \u001B[38;5;28;01mNone\u001B[39;00m\n\u001B[1;32m-> 1442\u001B[0m \u001B[38;5;28mself\u001B[39m\u001B[38;5;241m.\u001B[39m_engine \u001B[38;5;241m=\u001B[39m \u001B[38;5;28mself\u001B[39m\u001B[38;5;241m.\u001B[39m_make_engine(f, \u001B[38;5;28mself\u001B[39m\u001B[38;5;241m.\u001B[39mengine)\n",
      "File \u001B[1;32m~\\anaconda3\\Lib\\site-packages\\pandas\\io\\parsers\\readers.py:1735\u001B[0m, in \u001B[0;36mTextFileReader._make_engine\u001B[1;34m(self, f, engine)\u001B[0m\n\u001B[0;32m   1733\u001B[0m     \u001B[38;5;28;01mif\u001B[39;00m \u001B[38;5;124m\"\u001B[39m\u001B[38;5;124mb\u001B[39m\u001B[38;5;124m\"\u001B[39m \u001B[38;5;129;01mnot\u001B[39;00m \u001B[38;5;129;01min\u001B[39;00m mode:\n\u001B[0;32m   1734\u001B[0m         mode \u001B[38;5;241m+\u001B[39m\u001B[38;5;241m=\u001B[39m \u001B[38;5;124m\"\u001B[39m\u001B[38;5;124mb\u001B[39m\u001B[38;5;124m\"\u001B[39m\n\u001B[1;32m-> 1735\u001B[0m \u001B[38;5;28mself\u001B[39m\u001B[38;5;241m.\u001B[39mhandles \u001B[38;5;241m=\u001B[39m get_handle(\n\u001B[0;32m   1736\u001B[0m     f,\n\u001B[0;32m   1737\u001B[0m     mode,\n\u001B[0;32m   1738\u001B[0m     encoding\u001B[38;5;241m=\u001B[39m\u001B[38;5;28mself\u001B[39m\u001B[38;5;241m.\u001B[39moptions\u001B[38;5;241m.\u001B[39mget(\u001B[38;5;124m\"\u001B[39m\u001B[38;5;124mencoding\u001B[39m\u001B[38;5;124m\"\u001B[39m, \u001B[38;5;28;01mNone\u001B[39;00m),\n\u001B[0;32m   1739\u001B[0m     compression\u001B[38;5;241m=\u001B[39m\u001B[38;5;28mself\u001B[39m\u001B[38;5;241m.\u001B[39moptions\u001B[38;5;241m.\u001B[39mget(\u001B[38;5;124m\"\u001B[39m\u001B[38;5;124mcompression\u001B[39m\u001B[38;5;124m\"\u001B[39m, \u001B[38;5;28;01mNone\u001B[39;00m),\n\u001B[0;32m   1740\u001B[0m     memory_map\u001B[38;5;241m=\u001B[39m\u001B[38;5;28mself\u001B[39m\u001B[38;5;241m.\u001B[39moptions\u001B[38;5;241m.\u001B[39mget(\u001B[38;5;124m\"\u001B[39m\u001B[38;5;124mmemory_map\u001B[39m\u001B[38;5;124m\"\u001B[39m, \u001B[38;5;28;01mFalse\u001B[39;00m),\n\u001B[0;32m   1741\u001B[0m     is_text\u001B[38;5;241m=\u001B[39mis_text,\n\u001B[0;32m   1742\u001B[0m     errors\u001B[38;5;241m=\u001B[39m\u001B[38;5;28mself\u001B[39m\u001B[38;5;241m.\u001B[39moptions\u001B[38;5;241m.\u001B[39mget(\u001B[38;5;124m\"\u001B[39m\u001B[38;5;124mencoding_errors\u001B[39m\u001B[38;5;124m\"\u001B[39m, \u001B[38;5;124m\"\u001B[39m\u001B[38;5;124mstrict\u001B[39m\u001B[38;5;124m\"\u001B[39m),\n\u001B[0;32m   1743\u001B[0m     storage_options\u001B[38;5;241m=\u001B[39m\u001B[38;5;28mself\u001B[39m\u001B[38;5;241m.\u001B[39moptions\u001B[38;5;241m.\u001B[39mget(\u001B[38;5;124m\"\u001B[39m\u001B[38;5;124mstorage_options\u001B[39m\u001B[38;5;124m\"\u001B[39m, \u001B[38;5;28;01mNone\u001B[39;00m),\n\u001B[0;32m   1744\u001B[0m )\n\u001B[0;32m   1745\u001B[0m \u001B[38;5;28;01massert\u001B[39;00m \u001B[38;5;28mself\u001B[39m\u001B[38;5;241m.\u001B[39mhandles \u001B[38;5;129;01mis\u001B[39;00m \u001B[38;5;129;01mnot\u001B[39;00m \u001B[38;5;28;01mNone\u001B[39;00m\n\u001B[0;32m   1746\u001B[0m f \u001B[38;5;241m=\u001B[39m \u001B[38;5;28mself\u001B[39m\u001B[38;5;241m.\u001B[39mhandles\u001B[38;5;241m.\u001B[39mhandle\n",
      "File \u001B[1;32m~\\anaconda3\\Lib\\site-packages\\pandas\\io\\common.py:856\u001B[0m, in \u001B[0;36mget_handle\u001B[1;34m(path_or_buf, mode, encoding, compression, memory_map, is_text, errors, storage_options)\u001B[0m\n\u001B[0;32m    851\u001B[0m \u001B[38;5;28;01melif\u001B[39;00m \u001B[38;5;28misinstance\u001B[39m(handle, \u001B[38;5;28mstr\u001B[39m):\n\u001B[0;32m    852\u001B[0m     \u001B[38;5;66;03m# Check whether the filename is to be opened in binary mode.\u001B[39;00m\n\u001B[0;32m    853\u001B[0m     \u001B[38;5;66;03m# Binary mode does not support 'encoding' and 'newline'.\u001B[39;00m\n\u001B[0;32m    854\u001B[0m     \u001B[38;5;28;01mif\u001B[39;00m ioargs\u001B[38;5;241m.\u001B[39mencoding \u001B[38;5;129;01mand\u001B[39;00m \u001B[38;5;124m\"\u001B[39m\u001B[38;5;124mb\u001B[39m\u001B[38;5;124m\"\u001B[39m \u001B[38;5;129;01mnot\u001B[39;00m \u001B[38;5;129;01min\u001B[39;00m ioargs\u001B[38;5;241m.\u001B[39mmode:\n\u001B[0;32m    855\u001B[0m         \u001B[38;5;66;03m# Encoding\u001B[39;00m\n\u001B[1;32m--> 856\u001B[0m         handle \u001B[38;5;241m=\u001B[39m \u001B[38;5;28mopen\u001B[39m(\n\u001B[0;32m    857\u001B[0m             handle,\n\u001B[0;32m    858\u001B[0m             ioargs\u001B[38;5;241m.\u001B[39mmode,\n\u001B[0;32m    859\u001B[0m             encoding\u001B[38;5;241m=\u001B[39mioargs\u001B[38;5;241m.\u001B[39mencoding,\n\u001B[0;32m    860\u001B[0m             errors\u001B[38;5;241m=\u001B[39merrors,\n\u001B[0;32m    861\u001B[0m             newline\u001B[38;5;241m=\u001B[39m\u001B[38;5;124m\"\u001B[39m\u001B[38;5;124m\"\u001B[39m,\n\u001B[0;32m    862\u001B[0m         )\n\u001B[0;32m    863\u001B[0m     \u001B[38;5;28;01melse\u001B[39;00m:\n\u001B[0;32m    864\u001B[0m         \u001B[38;5;66;03m# Binary mode\u001B[39;00m\n\u001B[0;32m    865\u001B[0m         handle \u001B[38;5;241m=\u001B[39m \u001B[38;5;28mopen\u001B[39m(handle, ioargs\u001B[38;5;241m.\u001B[39mmode)\n",
      "\u001B[1;31mFileNotFoundError\u001B[0m: [Errno 2] No such file or directory: 'data/cached_credentials.csv'"
     ]
    }
   ],
   "source": [
    "# Load sample\n",
    "cdb.load_credentials_dataset()\n",
    "\n",
    "import pdb\n",
    "#pdb.set_trace()\n",
    "print(cdb)"
   ],
   "metadata": {
    "collapsed": false,
    "ExecuteTime": {
     "end_time": "2024-01-04T09:36:17.380598200Z",
     "start_time": "2024-01-04T09:36:16.714360900Z"
    }
   },
   "id": "287f6f653285d350",
   "execution_count": 12
  },
  {
   "cell_type": "code",
   "outputs": [],
   "source": [],
   "metadata": {
    "collapsed": false,
    "ExecuteTime": {
     "end_time": "2023-12-29T08:12:36.152455800Z",
     "start_time": "2023-12-29T08:12:36.149947100Z"
    }
   },
   "id": "22711d7d5771c745",
   "execution_count": 4
  },
  {
   "cell_type": "code",
   "outputs": [
    {
     "name": "stdout",
     "output_type": "stream",
     "text": [
      "  name username password                   birthday  \\\n",
      "0          alin          2023-12-29 10:12:36.152455   \n",
      "1       ciprian          2023-12-29 10:12:36.153457   \n",
      "\n",
      "                           expertise                        preference  \\\n",
      "0  SecurityOfficerExpertise.BEGINNER  Preference_ResponseType.DETAILED   \n",
      "1  SecurityOfficerExpertise.ADVANCED  Preference_ResponseType.DETAILED   \n",
      "\n",
      "                                  politely                        emojis  \\\n",
      "0  Preference_Politely.POLITE_PRESENTATION  Preference_Emojis.USE_EMOJIS   \n",
      "1  Preference_Politely.POLITE_PRESENTATION  Preference_Emojis.USE_EMOJIS   \n",
      "\n",
      "   motivation_factor  can_be_tricked_out_factor  intentional_damage_factor  \\\n",
      "0                1.0                        0.0                        0.0   \n",
      "1                1.0                        0.0                        0.0   \n",
      "\n",
      "   correct_teamwork  \n",
      "0               1.0  \n",
      "1               1.0  \n"
     ]
    }
   ],
   "source": [
    "# insert sample\n",
    "from typing import Union\n",
    "\n",
    "a = SecurityOfficer()\n",
    "a.username = \"alin\"\n",
    "cdb.insertNewUser(a)\n",
    "\n",
    "b = SecurityOfficer()\n",
    "b.username = \"ciprian\"\n",
    "b.expertise = userUtils.SecurityOfficerExpertise.ADVANCED\n",
    "cdb.insertNewUser(b)\n",
    "\n",
    "print(cdb)\n",
    "\n",
    "# import datetime\n",
    "# \n",
    "# data = {'name':'Ciprian Paduraru', \n",
    "#         'username' : 'paduraru2009',\n",
    "#         'password' : 'Arbori2009',\n",
    "#         'birthday' : datetime.datetime(1986, 9, 3),\n",
    "#         'expertise':2, \n",
    "#         'preference':1, \n",
    "#         'politely':2, \n",
    "#         'emojis':1, \n",
    "#         'motivation_factor':0.2, \n",
    "#         'can_be_tricked_out_factor':0.0, \n",
    "#         'intentional_damage_factor':0.5, \n",
    "#         'correct_teamwork':0.5}\n",
    "# \n",
    "# \n",
    "# \n",
    "# df.loc[len(df.index)] = data\n",
    "# \n",
    "# save_credentials_dataset(df, 'data/credentials.csv')"
   ],
   "metadata": {
    "collapsed": false,
    "ExecuteTime": {
     "end_time": "2023-12-29T08:12:36.176923100Z",
     "start_time": "2023-12-29T08:12:36.152455800Z"
    }
   },
   "id": "f8e5aadd5dad1340",
   "execution_count": 5
  },
  {
   "cell_type": "code",
   "outputs": [
    {
     "name": "stdout",
     "output_type": "stream",
     "text": [
      "  name username password                   birthday  \\\n",
      "0          alin          2023-12-29 10:12:36.152455   \n",
      "1       ciprian          2023-12-29 10:12:36.153457   \n",
      "\n",
      "                           expertise                        preference  \\\n",
      "0  SecurityOfficerExpertise.BEGINNER  Preference_ResponseType.DETAILED   \n",
      "1  SecurityOfficerExpertise.ADVANCED  Preference_ResponseType.DETAILED   \n",
      "\n",
      "                                  politely                        emojis  \\\n",
      "0  Preference_Politely.POLITE_PRESENTATION  Preference_Emojis.USE_EMOJIS   \n",
      "1  Preference_Politely.POLITE_PRESENTATION  Preference_Emojis.USE_EMOJIS   \n",
      "\n",
      "   motivation_factor  can_be_tricked_out_factor  intentional_damage_factor  \\\n",
      "0                1.0                        0.0                        0.0   \n",
      "1                1.0                        0.0                        0.0   \n",
      "\n",
      "   correct_teamwork  \n",
      "0               1.0  \n",
      "1               1.0  \n"
     ]
    }
   ],
   "source": [
    "# Print sample\n",
    "print(cdb)\n"
   ],
   "metadata": {
    "collapsed": false,
    "ExecuteTime": {
     "end_time": "2023-12-29T08:12:36.176923100Z",
     "start_time": "2023-12-29T08:12:36.159836700Z"
    }
   },
   "id": "9120ed98d4cbf4f",
   "execution_count": 6
  },
  {
   "cell_type": "code",
   "outputs": [
    {
     "ename": "TypeError",
     "evalue": "unsupported operand type(s) for +: 'NoneType' and 'str'",
     "output_type": "error",
     "traceback": [
      "\u001B[1;31m---------------------------------------------------------------------------\u001B[0m",
      "\u001B[1;31mTypeError\u001B[0m                                 Traceback (most recent call last)",
      "Cell \u001B[1;32mIn[9], line 1\u001B[0m\n\u001B[1;32m----> 1\u001B[0m \u001B[38;5;28mprint\u001B[39m(cdb\u001B[38;5;241m.\u001B[39mgetUserById(\u001B[38;5;124m\"\u001B[39m\u001B[38;5;124mpaduraru2009\u001B[39m\u001B[38;5;124m\"\u001B[39m)\u001B[38;5;241m+\u001B[39m\u001B[38;5;124m\"\u001B[39m\u001B[38;5;130;01m\\n\u001B[39;00m\u001B[38;5;124m\"\u001B[39m)\n\u001B[0;32m      2\u001B[0m \u001B[38;5;28mprint\u001B[39m(cdb\u001B[38;5;241m.\u001B[39mgetUserById(\u001B[38;5;124m\"\u001B[39m\u001B[38;5;124malin\u001B[39m\u001B[38;5;124m\"\u001B[39m))\n\u001B[0;32m      3\u001B[0m \u001B[38;5;28mprint\u001B[39m(cdb\u001B[38;5;241m.\u001B[39mgetUserById(\u001B[38;5;124m\"\u001B[39m\u001B[38;5;124mciprian\u001B[39m\u001B[38;5;124m\"\u001B[39m))\n",
      "\u001B[1;31mTypeError\u001B[0m: unsupported operand type(s) for +: 'NoneType' and 'str'"
     ]
    }
   ],
   "source": [
    "                \n",
    "print(cdb.getUserById(\"paduraru2009\"))\n",
    "print(cdb.getUserById(\"alin\"))\n",
    "print(cdb.getUserById(\"ciprian\"))"
   ],
   "metadata": {
    "collapsed": false,
    "ExecuteTime": {
     "end_time": "2023-12-29T08:16:36.533399500Z",
     "start_time": "2023-12-29T08:16:36.153621300Z"
    }
   },
   "id": "7bebd65affd14afa",
   "execution_count": 9
  },
  {
   "cell_type": "code",
   "execution_count": 7,
   "outputs": [],
   "source": [],
   "metadata": {
    "collapsed": false,
    "ExecuteTime": {
     "end_time": "2023-12-29T08:12:36.177927700Z",
     "start_time": "2023-12-29T08:12:36.168824700Z"
    }
   },
   "id": "b64e6f3d3c19c72f"
  }
 ],
 "metadata": {
  "kernelspec": {
   "display_name": "Python 3",
   "language": "python",
   "name": "python3"
  },
  "language_info": {
   "codemirror_mode": {
    "name": "ipython",
    "version": 2
   },
   "file_extension": ".py",
   "mimetype": "text/x-python",
   "name": "python",
   "nbconvert_exporter": "python",
   "pygments_lexer": "ipython2",
   "version": "2.7.6"
  }
 },
 "nbformat": 4,
 "nbformat_minor": 5
}
