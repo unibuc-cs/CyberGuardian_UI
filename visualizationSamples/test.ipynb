{
 "cells": [
  {
   "cell_type": "code",
   "source": [
    "import pandas as pd \n",
    "from datetime import datetime\n",
    "\n",
    "# define the data\n",
    "param_ips = ['121.11.11.11','121.11.11.12', '121.11.11.13']\n",
    "service_names = ['doctoronline.com', 'simair.bk', 'ali24']\n",
    "blocked = [1,1,1]\n",
    "limited_bandwidth = [2000,2000,2000]\n",
    "\n",
    "# Read the previous dataset\n",
    "df1 = pd.read_csv(\"../../RAGSupport/dataForRAG/Hospital_DDoSSnapshot_Data/FIREWALL_PROCESSES.csv\", index_col=False)\n",
    "\n",
    "# Create the dataset \n",
    "df_new = pd.DataFrame({'IP': param_ips, 'NAME': service_names, 'DATE': datetime.now(), 'BLOCKED':blocked, 'LIMITED_BANDWIDTH': limited_bandwidth})\n",
    "\n",
    "# Concat with previous\n",
    "df1=pd.concat([df1, df_new])#, ignore_index=True)\n",
    "\n",
    "# Save to disk\n",
    "df1.to_csv(\"../../RAGSupport/dataForRAG/Hospital_DDoSSnapshot_Data/FIREWALL_PROCESSES.csv\", index=False)"
   ],
   "metadata": {
    "collapsed": false,
    "ExecuteTime": {
     "end_time": "2024-06-12T10:47:37.041250Z",
     "start_time": "2024-06-12T10:47:37.033632Z"
    }
   },
   "id": "b5b34ad5241d7d2c",
   "outputs": [
    {
     "name": "stdout",
     "output_type": "stream",
     "text": [
      "/home/ciprian/dynabicChatbot/UI/visualizationSamples\n",
      "             IP        NAME                        DATE  BLOCKED  \\\n",
      "0  121.11.11.10  WebShop.it  2024-06-12 13:41:07.683590        1   \n",
      "\n",
      "   LIMITED_BANDWIDTH  \n",
      "0               2000  \n",
      "             IP              NAME                       DATE  BLOCKED  \\\n",
      "0  121.11.11.11  doctoronline.com 2024-06-12 13:47:37.038138        1   \n",
      "1  121.11.11.12         simair.bk 2024-06-12 13:47:37.038138        1   \n",
      "2  121.11.11.13             ali24 2024-06-12 13:47:37.038138        1   \n",
      "\n",
      "   LIMITED_BANDWIDTH  \n",
      "0               2000  \n",
      "1               2000  \n",
      "2               2000  \n",
      "             IP              NAME                        DATE  BLOCKED  \\\n",
      "0  121.11.11.10        WebShop.it  2024-06-12 13:41:07.683590        1   \n",
      "0  121.11.11.11  doctoronline.com  2024-06-12 13:47:37.038138        1   \n",
      "1  121.11.11.12         simair.bk  2024-06-12 13:47:37.038138        1   \n",
      "2  121.11.11.13             ali24  2024-06-12 13:47:37.038138        1   \n",
      "\n",
      "   LIMITED_BANDWIDTH  \n",
      "0               2000  \n",
      "0               2000  \n",
      "1               2000  \n",
      "2               2000  \n"
     ]
    }
   ],
   "execution_count": 22
  },
  {
   "cell_type": "code",
   "source": [
    "\n",
    "from matplotlib import pyplot as plt\n",
    "import pandas as pd\n",
    "df_normal = pd.read_csv(\"../dynabicChatbot/good_RESOURCES_OCCUPANCY_HACKED_False.csv\")\n",
    "df_outlier = pd.read_csv(\"../dynabicChatbot/good_RESOURCES_OCCUPANCY_HACKED_True.csv\")\n",
    "\n",
    "# plotting two histograms on the same axis \n",
    "\n",
    "fig, ax = plt.subplots(1,2)\n",
    "\n",
    "ax[0].hist([df_normal['dataretrieval_occupancy'], df_normal['dataupdater_occupancy']],\n",
    "         bins=[0.2, 0.4, 0.6, 0.8, 1.0], alpha=0.85, color=['red', 'blue'], label=['Retrievers occupancy', 'Updaters occupancy'])\n",
    "ax[0].legend()\n",
    "ax[0].set_title(\"Normal occupancy distribution\") \n",
    "\n",
    "ax[1].hist([df_outlier['dataretrieval_occupancy'], df_outlier['dataupdater_occupancy']],\n",
    "         bins=[0.2, 0.4, 0.6, 0.8, 1.0], alpha=0.85, color=['green', 'yellow'], label=['Retrievers occupancy', 'Updaters occupancy'])\n",
    "ax[1].legend()\n",
    "ax[1].set_title(\"Outlier occupancy\")\n",
    "\n",
    "plt.show(fig)\n"
   ],
   "metadata": {
    "collapsed": false,
    "ExecuteTime": {
     "end_time": "2024-01-11T09:19:19.739523500Z",
     "start_time": "2024-01-11T09:19:19.600971Z"
    }
   },
   "id": "2d82c3ca6ad7b806",
   "execution_count": 95,
   "outputs": []
  },
  {
   "cell_type": "code",
   "source": [
    "import pandas as pd\n",
    "import numpy as np\n",
    "from typing import Dict, Union\n",
    "interested_columns = ['ip','id', 'lat', 'lon']\n",
    "\n",
    "def show_outlier_ips_usage(normaldataset: Union[str, pd.DataFrame], outlierdataset: Union[str, pd.DataFrame])->None:\n",
    "    # Create counts per usage and median values\n",
    "    df_normal = pd.read_csv(\"../dynabicChatbot/DATASET_LOGS_HACKED_False.csv\") if isinstance(normaldataset, str) else normaldataset\n",
    "    df_normal = df_normal.groupby(interested_columns, as_index=False).agg(count=(\"ip\", \"count\"))\n",
    "    median_normal = df_normal.loc[:, 'count'].median()\n",
    "    median_normal_plus = median_normal*1.3\n",
    "    \n",
    "    df_outliers = pd.read_csv(\"../dynabicChatbot/DATASET_LOGS_HACKED_True.csv\") if isinstance(outlierdataset, str) else outlierdataset\n",
    "    df_outliers = df_outliers[interested_columns]\n",
    "    df_outliers = df_outliers.groupby(interested_columns, as_index=False).agg(count=(\"ip\", \"count\"))\n",
    "    \n",
    "    print(f\"The median normal dataset: {median_normal}, and median considered for dataset filter: {median_normal_plus}\")\n",
    "    \n",
    "    \n",
    "    # Select from dataset only what we are interested in \n",
    "    ips_which_were_highconsumers_in_past_too = df_normal.loc[np.where(df_normal[\"count\"] > median_normal_plus)][\"ip\"].to_dict().values()\n",
    "    #print(ips_which_were_highconsumers_in_past_too)\n",
    "    \n",
    "    mask_above_mean_plus = np.where((df_outliers[\"count\"] > median_normal_plus) & ~(df_outliers[\"ip\"].isin(ips_which_were_highconsumers_in_past_too)))\n",
    "    print(f\"The items above mask mean that were not high consumers in the past too are {mask_above_mean_plus}\")\n",
    "          \n",
    "    # Filter by the mask and sort the values by usage\n",
    "    df_outliers = df_outliers.loc[mask_above_mean_plus]\n",
    "    df_outliers.sort_values(by=[\"count\"], inplace=True, ascending=False)\n",
    "    \n",
    "    print(f\"The final output is: {df_outliers}\")\n",
    "    \n",
    "\n",
    "show_outlier_ips_usage(\"../dynabicChatbot/DATASET_LOGS_HACKED_False.csv\", \"../dynabicChatbot/DATASET_LOGS_HACKED_True.csv\")\n"
   ],
   "metadata": {
    "collapsed": false,
    "ExecuteTime": {
     "end_time": "2024-01-11T05:56:17.411380200Z",
     "start_time": "2024-01-11T05:56:17.344484700Z"
    }
   },
   "id": "775047b4d6415802",
   "execution_count": 59,
   "outputs": []
  },
  {
   "cell_type": "code",
   "source": [
    "df = pd.DataFrame({'Animal': ['Falcon', 'Falcon',\n",
    "                               'Parrot', 'Parrot'],\n",
    "                    'Max Speed': [380., 390., 24., 24.]})\n",
    "#df.groupby(['Animal']).count().reset_index()\n",
    "\n",
    "\n",
    "df.groupby([\"Animal\"], as_index=False).agg(count=(\"Animal\", \"count\"))"
   ],
   "metadata": {
    "collapsed": false,
    "ExecuteTime": {
     "end_time": "2024-01-10T11:11:45.533690700Z",
     "start_time": "2024-01-10T11:11:45.526325600Z"
    }
   },
   "id": "f1e00a5439ec4f05",
   "execution_count": 12,
   "outputs": []
  },
  {
   "cell_type": "code",
   "execution_count": 9,
   "source": [
    "from userUtils import SecurityOfficer\n",
    "import userUtils\n",
    "import pandas as pd\n",
    "from databaseUtils import *\n",
    "from typing import Union\n"
   ],
   "metadata": {
    "collapsed": false,
    "ExecuteTime": {
     "end_time": "2024-01-04T09:36:14.646316300Z",
     "start_time": "2024-01-04T09:36:14.643292100Z"
    }
   },
   "id": "b2ca8163c0f67992",
   "outputs": []
  },
  {
   "cell_type": "code",
   "source": [
    "# Create sample\n",
    "cdb = CredentialsDB()\n",
    "cdb.create_credentials_dataset()"
   ],
   "metadata": {
    "collapsed": false,
    "ExecuteTime": {
     "end_time": "2024-01-04T09:36:14.835282Z",
     "start_time": "2024-01-04T09:36:14.831756700Z"
    }
   },
   "id": "ff0d1b12c224d7f5",
   "execution_count": 10,
   "outputs": []
  },
  {
   "cell_type": "markdown",
   "source": [],
   "metadata": {
    "collapsed": false
   },
   "id": "d080af50625f2ba"
  },
  {
   "cell_type": "code",
   "source": [
    "# Clear save sample\n",
    "cdb.clear_credentials_dataset()\n",
    "cdb.save_credentials_dataset('Data/credentials.csv')"
   ],
   "metadata": {
    "collapsed": false,
    "ExecuteTime": {
     "end_time": "2024-01-04T09:36:15.263496100Z",
     "start_time": "2024-01-04T09:36:15.258473900Z"
    }
   },
   "id": "51fae84595cd4659",
   "execution_count": 11,
   "outputs": []
  },
  {
   "cell_type": "code",
   "source": [
    "# Load sample\n",
    "cdb.load_credentials_dataset()\n",
    "\n",
    "import pdb\n",
    "#pdb.set_trace()\n",
    "print(cdb)"
   ],
   "metadata": {
    "collapsed": false,
    "ExecuteTime": {
     "end_time": "2024-01-04T09:36:17.380598200Z",
     "start_time": "2024-01-04T09:36:16.714360900Z"
    }
   },
   "id": "287f6f653285d350",
   "execution_count": 12,
   "outputs": []
  },
  {
   "cell_type": "code",
   "source": [],
   "metadata": {
    "collapsed": false,
    "ExecuteTime": {
     "end_time": "2023-12-29T08:12:36.152455800Z",
     "start_time": "2023-12-29T08:12:36.149947100Z"
    }
   },
   "id": "22711d7d5771c745",
   "execution_count": 4,
   "outputs": []
  },
  {
   "cell_type": "code",
   "source": [
    "# insert sample\n",
    "from typing import Union\n",
    "\n",
    "a = SecurityOfficer()\n",
    "a.username = \"alin\"\n",
    "cdb.insertNewUser(a)\n",
    "\n",
    "b = SecurityOfficer()\n",
    "b.username = \"ciprian\"\n",
    "b.expertise = userUtils.SecurityOfficerExpertise.ADVANCED\n",
    "cdb.insertNewUser(b)\n",
    "\n",
    "print(cdb)\n",
    "\n",
    "# import datetime\n",
    "# \n",
    "# data = {'name':'Ciprian Paduraru', \n",
    "#         'username' : 'paduraru2009',\n",
    "#         'password' : 'Arbori2009',\n",
    "#         'birthday' : datetime.datetime(1986, 9, 3),\n",
    "#         'expertise':2, \n",
    "#         'preference':1, \n",
    "#         'politely':2, \n",
    "#         'emojis':1, \n",
    "#         'motivation_factor':0.2, \n",
    "#         'can_be_tricked_out_factor':0.0, \n",
    "#         'intentional_damage_factor':0.5, \n",
    "#         'correct_teamwork':0.5}\n",
    "# \n",
    "# \n",
    "# \n",
    "# df.loc[len(df.index)] = data\n",
    "# \n",
    "# save_credentials_dataset(df, 'Data/credentials.csv')"
   ],
   "metadata": {
    "collapsed": false,
    "ExecuteTime": {
     "end_time": "2023-12-29T08:12:36.176923100Z",
     "start_time": "2023-12-29T08:12:36.152455800Z"
    }
   },
   "id": "f8e5aadd5dad1340",
   "execution_count": 5,
   "outputs": []
  },
  {
   "cell_type": "code",
   "source": [
    "# Print sample\n",
    "print(cdb)\n"
   ],
   "metadata": {
    "collapsed": false,
    "ExecuteTime": {
     "end_time": "2023-12-29T08:12:36.176923100Z",
     "start_time": "2023-12-29T08:12:36.159836700Z"
    }
   },
   "id": "9120ed98d4cbf4f",
   "execution_count": 6,
   "outputs": []
  },
  {
   "cell_type": "code",
   "source": [
    "                \n",
    "print(cdb.getUserById(\"paduraru2009\"))\n",
    "print(cdb.getUserById(\"alin\"))\n",
    "print(cdb.getUserById(\"ciprian\"))"
   ],
   "metadata": {
    "collapsed": false,
    "ExecuteTime": {
     "end_time": "2023-12-29T08:16:36.533399500Z",
     "start_time": "2023-12-29T08:16:36.153621300Z"
    }
   },
   "id": "7bebd65affd14afa",
   "execution_count": 9,
   "outputs": []
  },
  {
   "cell_type": "code",
   "execution_count": 7,
   "source": [],
   "metadata": {
    "collapsed": false,
    "ExecuteTime": {
     "end_time": "2023-12-29T08:12:36.177927700Z",
     "start_time": "2023-12-29T08:12:36.168824700Z"
    }
   },
   "id": "b64e6f3d3c19c72f",
   "outputs": []
  }
 ],
 "metadata": {
  "kernelspec": {
   "display_name": "Python 3",
   "language": "python",
   "name": "python3"
  },
  "language_info": {
   "codemirror_mode": {
    "name": "ipython",
    "version": 2
   },
   "file_extension": ".py",
   "mimetype": "text/x-python",
   "name": "python",
   "nbconvert_exporter": "python",
   "pygments_lexer": "ipython2",
   "version": "2.7.6"
  }
 },
 "nbformat": 4,
 "nbformat_minor": 5
}
